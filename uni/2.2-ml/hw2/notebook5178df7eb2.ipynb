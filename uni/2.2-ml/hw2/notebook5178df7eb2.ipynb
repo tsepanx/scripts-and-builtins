{
 "metadata": {
  "colab": {
   "provenance": []
  },
  "kernelspec": {
   "name": "python3",
   "display_name": "Python 3",
   "language": "python"
  },
  "language_info": {
   "name": "python",
   "version": "3.7.12",
   "mimetype": "text/x-python",
   "codemirror_mode": {
    "name": "ipython",
    "version": 3
   },
   "pygments_lexer": "ipython3",
   "nbconvert_exporter": "python",
   "file_extension": ".py"
  }
 },
 "nbformat_minor": 4,
 "nbformat": 4,
 "cells": [
  {
   "cell_type": "code",
   "source": [
    "import pandas as pd\n",
    "from sklearn.model_selection import train_test_split\n",
    "\n",
    "from keras import Sequential\n",
    "from keras.layers import Dense, Dropout\n",
    "from keras.callbacks import EarlyStopping\n",
    "from keras.metrics import Recall, Precision\n",
    "import keras.backend as K\n",
    "from sklearn.preprocessing import OneHotEncoder\n",
    "\n",
    "RANDOM_STATE = 123\n",
    "VERBOSITY = 1\n"
   ],
   "metadata": {
    "id": "Pu2o8oFNEBiy",
    "execution": {
     "iopub.status.busy": "2023-04-10T15:56:49.008487Z",
     "iopub.execute_input": "2023-04-10T15:56:49.008963Z",
     "iopub.status.idle": "2023-04-10T15:56:59.502701Z",
     "shell.execute_reply.started": "2023-04-10T15:56:49.008920Z",
     "shell.execute_reply": "2023-04-10T15:56:59.501570Z"
    },
    "trusted": true,
    "ExecuteTime": {
     "start_time": "2023-04-11T11:53:12.438390Z",
     "end_time": "2023-04-11T11:53:20.195140Z"
    }
   },
   "execution_count": 1,
   "outputs": [
    {
     "name": "stderr",
     "output_type": "stream",
     "text": [
      "2023-04-11 11:53:14.797970: I tensorflow/tsl/cuda/cudart_stub.cc:28] Could not find cuda drivers on your machine, GPU will not be used.\n",
      "2023-04-11 11:53:15.130786: I tensorflow/tsl/cuda/cudart_stub.cc:28] Could not find cuda drivers on your machine, GPU will not be used.\n",
      "2023-04-11 11:53:15.134170: I tensorflow/core/platform/cpu_feature_guard.cc:182] This TensorFlow binary is optimized to use available CPU instructions in performance-critical operations.\n",
      "To enable the following instructions: AVX2 FMA, in other operations, rebuild TensorFlow with the appropriate compiler flags.\n",
      "2023-04-11 11:53:18.038491: W tensorflow/compiler/tf2tensorrt/utils/py_utils.cc:38] TF-TRT Warning: Could not find TensorRT\n"
     ]
    }
   ]
  },
  {
   "cell_type": "code",
   "source": [
    "df = pd.read_csv(\"task1.csv\", index_col=0).sort_index()\n"
   ],
   "metadata": {
    "execution": {
     "iopub.status.busy": "2023-04-10T15:56:59.504908Z",
     "iopub.execute_input": "2023-04-10T15:56:59.505580Z",
     "iopub.status.idle": "2023-04-10T15:56:59.760591Z",
     "shell.execute_reply.started": "2023-04-10T15:56:59.505548Z",
     "shell.execute_reply": "2023-04-10T15:56:59.759576Z"
    },
    "trusted": true,
    "ExecuteTime": {
     "start_time": "2023-04-11T11:53:20.200386Z",
     "end_time": "2023-04-11T11:53:20.479542Z"
    }
   },
   "execution_count": 2,
   "outputs": []
  },
  {
   "cell_type": "code",
   "source": [
    "\n",
    "y = df.pop(\"user_id\")\n",
    "y = y.apply(lambda x: 1 if x == 0 else 0)\n",
    "y = pd.DataFrame(y)\n",
    "\n",
    "cols_to_drop = [\"time\", \"date\", \"sites\"]\n",
    "df.drop(columns=cols_to_drop)\n",
    "X = df\n",
    "\n",
    "\n",
    "def onehot_encode(X: pd.DataFrame) -> pd.DataFrame:\n",
    "    encoder = OneHotEncoder()\n",
    "    encoder.fit(X)\n",
    "    np_array = encoder.transform(df).toarray()\n",
    "    feat_columns = encoder.get_feature_names_out(df.columns)\n",
    "\n",
    "    res_df = pd.DataFrame(np_array, columns=feat_columns)\n",
    "    return res_df\n",
    "\n",
    "\n",
    "print(\"Encoding...\")\n",
    "\n",
    "# X = pd.get_dummies(X)\n",
    "X = onehot_encode(X)\n",
    "\n",
    "print(\"Completed encoding\")\n"
   ],
   "metadata": {
    "colab": {
     "base_uri": "https://localhost:8080/"
    },
    "id": "Gx4QAfVMF58a",
    "outputId": "ae412bb1-a3d2-4e1c-ea8a-680c4e7c4a42",
    "execution": {
     "iopub.status.busy": "2023-04-10T15:56:59.762271Z",
     "iopub.execute_input": "2023-04-10T15:56:59.762625Z",
     "iopub.status.idle": "2023-04-10T15:57:00.097855Z",
     "shell.execute_reply.started": "2023-04-10T15:56:59.762593Z",
     "shell.execute_reply": "2023-04-10T15:57:00.095918Z"
    },
    "trusted": true,
    "ExecuteTime": {
     "start_time": "2023-04-11T11:53:20.495669Z",
     "end_time": "2023-04-11T11:53:20.937575Z"
    }
   },
   "execution_count": 3,
   "outputs": [
    {
     "name": "stdout",
     "output_type": "stream",
     "text": [
      "Encoding...\n",
      "Completed encoding\n"
     ]
    }
   ]
  },
  {
   "cell_type": "markdown",
   "source": [
    "# New Section"
   ],
   "metadata": {
    "id": "tZPVIJcqEQXg"
   }
  },
  {
   "cell_type": "code",
   "source": [
    "\n",
    "X_train, X_test, y_train, y_test = train_test_split(X, y, test_size=0.2, random_state=RANDOM_STATE)\n"
   ],
   "metadata": {
    "id": "Y_yed-BVERRD",
    "execution": {
     "iopub.status.busy": "2023-04-10T15:57:00.100584Z",
     "iopub.execute_input": "2023-04-10T15:57:00.101320Z",
     "iopub.status.idle": "2023-04-10T15:57:01.114902Z",
     "shell.execute_reply.started": "2023-04-10T15:57:00.101278Z",
     "shell.execute_reply": "2023-04-10T15:57:01.113926Z"
    },
    "trusted": true,
    "ExecuteTime": {
     "start_time": "2023-04-10T22:34:15.668868Z",
     "end_time": "2023-04-10T22:34:21.512201Z"
    }
   },
   "execution_count": 4,
   "outputs": [
    {
     "name": "stderr",
     "output_type": "stream",
     "text": [
      "\n",
      "KeyboardInterrupt\n",
      "\n"
     ]
    }
   ]
  },
  {
   "cell_type": "code",
   "source": [
    "\n",
    "def my_f1_score(y_true, y_pred):\n",
    "    true_positives = K.sum(K.round(K.clip(y_true * y_pred, 0, 1)))\n",
    "    possible_positives = K.sum(K.round(K.clip(y_true, 0, 1)))\n",
    "    predicted_positives = K.sum(K.round(K.clip(y_pred, 0, 1)))\n",
    "    precision = true_positives / (predicted_positives + K.epsilon())\n",
    "    recall = true_positives / (possible_positives + K.epsilon())\n",
    "    f1_val = 2 * (precision * recall) / (precision + recall + K.epsilon())\n",
    "    return f1_val\n",
    "\n",
    "\n",
    "def build_model(neurons_cnt=16, layers_cnt=1, dropout_prob=0.5):\n",
    "    model = Sequential()\n",
    "\n",
    "    model.add(Dense(neurons_cnt, input_dim=X_train.shape[1], activation='relu'))\n",
    "    model.add(Dropout(dropout_prob))\n",
    "\n",
    "    for i in range(layers_cnt):\n",
    "        model.add(Dense(neurons_cnt, activation='relu'))\n",
    "        model.add(Dropout(dropout_prob))\n",
    "\n",
    "    model.add(Dense(1, activation='sigmoid'))\n",
    "    \n",
    "    model.compile(\n",
    "    optimizer=\"adam\",\n",
    "    loss=\"binary_crossentropy\",\n",
    "    metrics=[\n",
    "        my_f1_score,\n",
    "        'accuracy',\n",
    "        Precision(),\n",
    "        Recall(),\n",
    "    ]\n",
    ")\n",
    "    \n",
    "    return model\n",
    "\n",
    "\n",
    "model = build_model()\n",
    "\n"
   ],
   "metadata": {
    "id": "rhLzzq9aFgYs",
    "execution": {
     "iopub.status.busy": "2023-04-10T15:57:01.116381Z",
     "iopub.execute_input": "2023-04-10T15:57:01.116929Z",
     "iopub.status.idle": "2023-04-10T15:57:01.341334Z",
     "shell.execute_reply.started": "2023-04-10T15:57:01.116896Z",
     "shell.execute_reply": "2023-04-10T15:57:01.339991Z"
    },
    "trusted": true,
    "ExecuteTime": {
     "start_time": "2023-04-10T22:34:23.581143Z",
     "end_time": "2023-04-10T22:34:24.232712Z"
    }
   },
   "execution_count": null,
   "outputs": []
  },
  {
   "cell_type": "code",
   "source": [
    "# early_stopping = tf.keras.callbacks.EarlyStopping(patience=5, restore_best_weights=True)\n",
    "# model.fit(X_train, y_train, validation_split=0.2, epochs=50, callbacks=[early_stopping])\n",
    "# loss, accuracy = model.evaluate(X_test, y_test)\n",
    "\n",
    "VALIDATION_RATIO = 0.2\n",
    "BATCH_SIZE = 128\n",
    "EPOCHS = 50\n",
    "\n",
    "early_stopping = EarlyStopping(\n",
    "    patience=5,\n",
    "    restore_best_weights=True\n",
    ")\n",
    "\n",
    "print(\"model.fit\")\n",
    "model.fit(\n",
    "    X_train, y_train,\n",
    "    epochs=EPOCHS,\n",
    "    batch_size=BATCH_SIZE,\n",
    "    validation_split=VALIDATION_RATIO,\n",
    "    verbose=VERBOSITY,\n",
    "    callbacks=[early_stopping]\n",
    ")\n",
    "\n",
    "test_loss, test_f1, test_accuracy, test_precision, test_recall = model.evaluate(X_test, y_test)\n",
    "\n"
   ],
   "metadata": {
    "colab": {
     "base_uri": "https://localhost:8080/"
    },
    "id": "CrTMBpj2GGwv",
    "outputId": "1ec7133f-b6f3-42cc-d023-f4be14a923d4",
    "execution": {
     "iopub.status.busy": "2023-04-10T15:57:01.342788Z",
     "iopub.execute_input": "2023-04-10T15:57:01.343056Z",
     "iopub.status.idle": "2023-04-10T15:57:30.501598Z",
     "shell.execute_reply.started": "2023-04-10T15:57:01.343029Z",
     "shell.execute_reply": "2023-04-10T15:57:30.500847Z"
    },
    "trusted": true,
    "ExecuteTime": {
     "start_time": "2023-04-10T22:34:45.701254Z",
     "end_time": "2023-04-10T22:35:28.689127Z"
    }
   },
   "execution_count": null,
   "outputs": []
  },
  {
   "cell_type": "code",
   "source": [
    "from sklearn.metrics import classification_report\n",
    "\n",
    "# evaluate the model without fine tuning\n",
    "y_pred = model.predict(X_test, verbose=VERBOSITY) > 0.5\n",
    "print(classification_report(y_test, y_pred))\n"
   ],
   "metadata": {
    "colab": {
     "base_uri": "https://localhost:8080/"
    },
    "id": "ExiiAs5uJWGy",
    "outputId": "479d6706-24bd-450c-9f7b-f036605064bb",
    "execution": {
     "iopub.status.busy": "2023-04-10T15:57:30.504535Z",
     "iopub.execute_input": "2023-04-10T15:57:30.505479Z",
     "iopub.status.idle": "2023-04-10T15:57:45.644897Z",
     "shell.execute_reply.started": "2023-04-10T15:57:30.505437Z",
     "shell.execute_reply": "2023-04-10T15:57:45.643458Z"
    },
    "trusted": true,
    "ExecuteTime": {
     "start_time": "2023-04-10T22:35:33.748461Z",
     "end_time": "2023-04-10T22:35:35.525204Z"
    }
   },
   "execution_count": null,
   "outputs": []
  },
  {
   "cell_type": "code",
   "source": [
    "from sklearn.model_selection import GridSearchCV\n",
    "from keras.wrappers.scikit_learn import KerasClassifier\n",
    "\n",
    "model = KerasClassifier(build_fn=build_model, verbose=VERBOSITY)\n",
    "\n",
    "param_grid = {\n",
    "    'neurons_cnt': [16, 32, 64],\n",
    "    'layers_cnt': [1, 2, 3],\n",
    "    'dropout_prob' : [0.0, 0.1, 0.2],\n",
    "}\n",
    "\n",
    "# Fine tune model\n",
    "grid_search = GridSearchCV(model, param_grid=param_grid, cv=3, scoring='f1', verbose=VERBOSITY)\n",
    "grid_result = grid_search.fit(X_train, y_train, verbose=2)\n",
    "\n",
    "print(grid_result.best_score_)\n",
    "print(grid_result.best_params_)\n"
   ],
   "metadata": {
    "colab": {
     "base_uri": "https://localhost:8080/"
    },
    "id": "_EQixtWgLFCJ",
    "outputId": "866733b1-1b73-460c-c7ad-b5868eb13e17",
    "execution": {
     "iopub.status.busy": "2023-04-10T15:57:45.647059Z",
     "iopub.execute_input": "2023-04-10T15:57:45.647404Z"
    },
    "trusted": true,
    "ExecuteTime": {
     "start_time": "2023-04-10T22:35:39.210771Z",
     "end_time": "2023-04-10T23:33:31.927727Z"
    }
   },
   "execution_count": null,
   "outputs": []
  },
  {
   "cell_type": "code",
   "source": [],
   "metadata": {
    "id": "sJ-LU9zkKJ9F"
   },
   "execution_count": 5,
   "outputs": [
    {
     "ename": "NameError",
     "evalue": "name 'grid_result' is not defined",
     "output_type": "error",
     "traceback": [
      "\u001B[0;31m---------------------------------------------------------------------------\u001B[0m",
      "\u001B[0;31mNameError\u001B[0m                                 Traceback (most recent call last)",
      "Cell \u001B[0;32mIn[5], line 1\u001B[0m\n\u001B[0;32m----> 1\u001B[0m \u001B[38;5;28mprint\u001B[39m(\u001B[43mgrid_result\u001B[49m\u001B[38;5;241m.\u001B[39mbest_score_)\n\u001B[1;32m      2\u001B[0m \u001B[38;5;28mprint\u001B[39m(grid_result\u001B[38;5;241m.\u001B[39mbest_params_)\n",
      "\u001B[0;31mNameError\u001B[0m: name 'grid_result' is not defined"
     ]
    }
   ]
  }
 ]
}
